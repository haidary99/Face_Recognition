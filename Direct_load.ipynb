{
 "cells": [
  {
   "cell_type": "markdown",
   "metadata": {},
   "source": [
    "### This file is used to directly utilize `InceptionResnetV1` in order to compare face(s) in frame with saved embeddings in `data.pt`. This file does not train on the available dataset of faces! You need to use `face_reco.ipynb` for that purpose.\n",
    "***"
   ]
  },
  {
   "cell_type": "code",
   "execution_count": 34,
   "metadata": {},
   "outputs": [],
   "source": [
    "from facenet_pytorch import MTCNN, InceptionResnetV1\n",
    "import torch\n",
    "from PIL import Image\n",
    "import cv2\n",
    "import time\n",
    "import os"
   ]
  },
  {
   "cell_type": "code",
   "execution_count": 35,
   "metadata": {},
   "outputs": [],
   "source": [
    "mtcnn = MTCNN(image_size=240, margin=0, keep_all=True, min_face_size=40) # keep_all = True keeps all faces in a form of list\n",
    "resnet = InceptionResnetV1(pretrained='vggface2').eval()"
   ]
  },
  {
   "cell_type": "code",
   "execution_count": 36,
   "metadata": {},
   "outputs": [],
   "source": [
    "# Loading data.pt file\n",
    "load_data = torch.load('data.pt')\n",
    "embedding_list = load_data[0] \n",
    "name_list = load_data[1]\n",
    "\n",
    "cam = cv2.VideoCapture(0) # initializing the camera from CV, 0 means the default webcam in the device\n",
    "\n",
    "while True: # read all the frames in the video\n",
    "    ret, frame = cam.read() # return is true or false, if the webcam succesfully captures an image then it is true otherwise false. frame reperesnts a single frame (image) captured from the webcam using VideoCapture object\n",
    "    if not ret:\n",
    "        print(\"Fail to grab frame, try again\")\n",
    "        break\n",
    "    \n",
    "    img = Image.fromarray(frame) # Image class is part of PIL, .fromarray() is a method that creates an \"Image\" object from a numpy array \n",
    "    img_cropped_list, prob_list = mtcnn(img, return_prob=True) # pass the image into mtcnn, mtcnn will return multiple faces if the image contain multiple faces, also return all the probabilities for all the faces\n",
    "\n",
    "    if img_cropped_list is not None: # if the image has at least one face\n",
    "        boxes, _ = mtcnn.detect(img) # return the boxes of faces \n",
    "        # print(boxes[0][0])\n",
    "\n",
    "        for i, prob in enumerate(prob_list): # loop thru the prob list\n",
    "            if prob > 0.90: \n",
    "                emb = resnet(img_cropped_list[i].unsqueeze(0)).detach()\n",
    "                \n",
    "                dist_list = [] # for the distance between the current embedding and embeddings of faces in the photos directory (similarity). Minimum distance is used to identify the person\n",
    "\n",
    "                for idx, emd_db in enumerate(embedding_list):\n",
    "                    dist = torch.dist(emb, emd_db).item() # calc. distance betweem current embedding and embeddings stored embedding_list\n",
    "                    dist_list.append(dist)\n",
    "\n",
    "                # print(f\"Minimum distance array:\\n{dist_list}\")\n",
    "                min_dist = min(dist_list) # get minimum dist value\n",
    "                formatted_min_dist = f'{min_dist:.4f}' # used for printing on the frame\n",
    "                min_dist_idx = dist_list.index(min_dist) # get minimum dist index (where the min dist is located in the array)\n",
    "                name = name_list[min_dist_idx] # get name corresponding to minium dist ##########\n",
    "                name = name.replace('_', ' ')\n",
    "\n",
    "                box = boxes[i]\n",
    "\n",
    "                original_frame = frame.copy() # storing a copy of frame before drawing on it\n",
    "        \n",
    "                if min_dist<0.90:\n",
    "                    frame = cv2.putText(frame, name+' '+str(formatted_min_dist), (int(box[0])-5, int(box[1])-5), cv2.FONT_HERSHEY_SIMPLEX, 1, (0,0,255), 2, cv2.LINE_AA)\n",
    "\n",
    "                frame = cv2.rectangle(frame, (int(box[0]), int(box[1])), (int(box[2]), int(box[3])), (255,0,0), 3)\n",
    "\n",
    "    cv2.imshow(\"IMG\", frame)\n",
    "\n",
    "    k = cv2.waitKey(1)\n",
    "    # Press q or esc to quit, space bar to add & save new image\n",
    "    if k == ord('q'):\n",
    "        break # Quit the program\n",
    "\n",
    "    elif k == 27: # 27 is for esc key\n",
    "        break\n",
    "\n",
    "    elif k == 32: # 32 is the ASCII of space bar\n",
    "        print('Enter your name: ')\n",
    "        name = input()\n",
    "        if name == \"\": ###### I ADDED THESE 2 LINES IN CASE INPUT WAS EMPTY IT DOESN'T SAVE TEH IMAGE\n",
    "            continue\n",
    "\n",
    "        # Create directory if class/person does not exist in photos directory\n",
    "        if not os.path.exists('photos/'+name):\n",
    "            os.mkdir('photos/'+name)\n",
    "\n",
    "        img_name = f\"photos/{name}/{int(time.time())}.jpg\"\n",
    "        cv2.imwrite(img_name, original_frame)\n",
    "        print(f\"saved: {img_name}\")\n",
    "\n",
    "cam.release()\n",
    "\n",
    "for i in range(1):\n",
    "    cv2.destroyAllWindows()\n",
    "    cv2.waitKey(1)\n",
    "\n",
    "# OR the below method, but below method requires one more key press to destroy the window while the above loop automatically closes the window without extra key press\n",
    "\n",
    "# cv2.waitKey(0)\n",
    "# cv2.destroyAllWindows()\n",
    "# cv2.waitKey(1) # This is the only extra line u need on top of windows os uses to work properly on mac"
   ]
  },
  {
   "cell_type": "code",
   "execution_count": 1,
   "metadata": {},
   "outputs": [
    {
     "name": "stdout",
     "output_type": "stream",
     "text": [
      "[NbConvertApp] Converting notebook Direct_load.ipynb to script\n",
      "[NbConvertApp] Writing 4547 bytes to Direct_load.py\n"
     ]
    }
   ],
   "source": [
    "# !jupyter nbconvert --to script Direct_load.ipynb"
   ]
  }
 ],
 "metadata": {
  "kernelspec": {
   "display_name": "Python 3",
   "language": "python",
   "name": "python3"
  },
  "language_info": {
   "codemirror_mode": {
    "name": "ipython",
    "version": 3
   },
   "file_extension": ".py",
   "mimetype": "text/x-python",
   "name": "python",
   "nbconvert_exporter": "python",
   "pygments_lexer": "ipython3",
   "version": "3.8.13"
  },
  "orig_nbformat": 4
 },
 "nbformat": 4,
 "nbformat_minor": 2
}
